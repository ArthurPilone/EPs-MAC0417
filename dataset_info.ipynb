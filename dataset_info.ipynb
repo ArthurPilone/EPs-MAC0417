{
 "cells": [
  {
   "cell_type": "markdown",
   "metadata": {},
   "source": [
    "## Dataset Info Notebook\n",
    "\n",
    "Contains and displays basic (numeric) info about the data in the repo"
   ]
  },
  {
   "cell_type": "code",
   "execution_count": 1,
   "metadata": {},
   "outputs": [],
   "source": [
    "from ImageRepo import ImageRepo\n",
    "repo = ImageRepo(\"./images/\")"
   ]
  },
  {
   "cell_type": "code",
   "execution_count": 2,
   "metadata": {},
   "outputs": [
    {
     "name": "stdout",
     "output_type": "stream",
     "text": [
      "Repository Data:\n",
      "Classes: ['cola', 'lapiseira', 'borracha', 'faca', 'caneta', 'colher', 'lapis', 'chaveiro', 'apontador', 'carregador'] (10)\n",
      "Number of images: 120\n",
      "Image resolution: (3024 lines x 4032 columns)\n",
      "Database size: 461,5MB\n"
     ]
    }
   ],
   "source": [
    "repo.print_repo_stats()"
   ]
  },
  {
   "cell_type": "code",
   "execution_count": 3,
   "metadata": {},
   "outputs": [
    {
     "name": "stdout",
     "output_type": "stream",
     "text": [
      "Class     |Objects|Repetitions|No. Samples|Background Variations    |Light Variations                   \n",
      "==============================================================================================================\n",
      "cola      |   1   |     3     |    36     |['sofa', 'table', 'desk']|['morning', 'afternoon', 'dusk', 'night']\n",
      "lapiseira |   1   |     3     |    36     |['sofa', 'table', 'desk']|['morning', 'afternoon', 'dusk', 'night']\n",
      "borracha  |   1   |     3     |    36     |['sofa', 'table', 'desk']|['morning', 'afternoon', 'dusk', 'night']\n",
      "faca      |   1   |     3     |    36     |['sofa', 'table', 'desk']|['morning', 'afternoon', 'dusk', 'night']\n",
      "caneta    |   1   |     3     |    36     |['sofa', 'table', 'desk']|['morning', 'afternoon', 'dusk', 'night']\n",
      "colher    |   1   |     3     |    36     |['sofa', 'table', 'desk']|['morning', 'afternoon', 'dusk', 'night']\n",
      "lapis     |   1   |     3     |    36     |['sofa', 'table', 'desk']|['morning', 'afternoon', 'dusk', 'night']\n",
      "chaveiro  |   1   |     3     |    36     |['sofa', 'table', 'desk']|['morning', 'afternoon', 'dusk', 'night']\n",
      "apontador |   1   |     3     |    36     |['sofa', 'table', 'desk']|['morning', 'afternoon', 'dusk', 'night']\n",
      "carregador|   1   |     3     |    36     |['sofa', 'table', 'desk']|['morning', 'afternoon', 'dusk', 'night']\n"
     ]
    }
   ],
   "source": [
    "repo.print_class_based_info()"
   ]
  }
 ],
 "metadata": {
  "kernelspec": {
   "display_name": ".venv",
   "language": "python",
   "name": "python3"
  },
  "language_info": {
   "codemirror_mode": {
    "name": "ipython",
    "version": 3
   },
   "file_extension": ".py",
   "mimetype": "text/x-python",
   "name": "python",
   "nbconvert_exporter": "python",
   "pygments_lexer": "ipython3",
   "version": "3.8.10"
  }
 },
 "nbformat": 4,
 "nbformat_minor": 2
}
